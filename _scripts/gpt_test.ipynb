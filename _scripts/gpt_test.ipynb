{
 "cells": [
  {
   "cell_type": "code",
   "execution_count": 1,
   "metadata": {},
   "outputs": [],
   "source": [
    "import openai\n",
    "import os, sys"
   ]
  },
  {
   "cell_type": "code",
   "execution_count": 5,
   "metadata": {},
   "outputs": [],
   "source": [
    "filename = \"data/gpt/xho/plain/sessione_13_22-09-17.txt\"\n",
    "with open(filename, \"r\", encoding='utf-8') as f:\n",
    "    content = f.read()"
   ]
  },
  {
   "cell_type": "code",
   "execution_count": 6,
   "metadata": {},
   "outputs": [
    {
     "name": "stdout",
     "output_type": "stream",
     "text": [
      "(Attenzione: seguono immagini di ragni)\n",
      "\n",
      "Data ingame: 23 Dualahei (20/3/843) -> 1 Thunsheer (1/04/843)\n",
      "\n",
      "Partecipano: Nikolaya (Fede), Willow (Salo), Estia (Camilla)\n",
      "\n",
      "Il gruppo della sessione, nella settimana in cui parte il gruppo B (inclusa Kor), fa una missione di caccia di demoni ad Asarius, la città dei mostri, ottenendo 400mo.\n",
      "\n",
      "Nikolaya sfrutta le sue capacità per interrogare i due cultisti catturati, ottenendo queste informazioni:\n",
      "\n",
      "Stanno facendo un rituale per incarnare un avatar di Lloth in qualcosa o qualcuno, invece che tentare di rompere la Barriera Divina che impedisce agli dei di manifestarsi come spesso culti tentano (fallendo).\n",
      "\n",
      "Il rituale richiede sotto-rituali in punti chiave della foresta.\n",
      "\n",
      "Il rituale è diretto, gestito, ispirato o in altri modi correlato a una tale \"Regina Reggente\".\n",
      "\n",
      "Parte chiave/centrale del rituale è in antica città drow nell'Underdark, dove ci vanno solo sacerdotesse, e molto di rado.\n",
      "\n",
      "Le sacerdotesse di Lloth sono vestite di abiti rossi con elementi viola e sono solo donne.\n",
      "\n",
      "Partendo dall'accampamento a nord della area del Lutto, il gruppo parte per una seconda spedizione diretto alla giungla e al lago menzionati nella mappa trovata nel mulino. Diretti verso sud, la nebbia li fa perdere e uscire lontano da dove si aspettassero, perdendo il sentiero che avevano fatto degli alleati. Hornet prova a dirigere il gruppo, ma viene messa a dura prova da intensa nebbia che li fa perdere più volte, riorientandosi quando riescono mandando Galka, l'Homunculus di Nikolaya, a guardare la loro posizione relativamente alla torre dall'alto.\n",
      "\n",
      "Arrivati finalmente al lago, si dirigono nella zona non esplorata, ovviamente perdendosi di nuovo. Incappano in una torre di guardia abbandonata e diroccata, il cui piano sotterraneo sembra nascondere elementi più recenti. Ed essere infestato da ragni in grado di sparire nell'immateriale, con i quali combattono (con poche difficoltà).\n",
      "\n",
      "Una potente trappola magica ferisce gravemente Nikolaya, e un ragno simile ai precedenti ma più potente (e intelligente) approfitta della situazione per assalire il gruppo. La sessione finisce a metà del combattimento con il ragno.\n",
      "\n"
     ]
    }
   ],
   "source": [
    "print(content)"
   ]
  },
  {
   "cell_type": "code",
   "execution_count": 8,
   "metadata": {},
   "outputs": [],
   "source": [
    "openai.api_key_path = \"data/secret/openai-api.key\""
   ]
  },
  {
   "cell_type": "code",
   "execution_count": 16,
   "metadata": {},
   "outputs": [],
   "source": [
    "output = openai.ChatCompletion.create(\n",
    "  model=\"gpt-3.5-turbo\",\n",
    "  messages=[\n",
    "        {\"role\": \"system\", \"content\": \"Riassumi il testo scritto di seguito dall'utente in un paragrafo, senza cominciare menzionando la composizione del gruppo, e crea un titolo per il testo. Mostra l'output in questo formato, analogo a YAML:\\n\\\"\\\"\\\"\\nrecap: \\\"<riassunto>\\\"\\ntitle: <titolo>\\n\\\"\\\"\\\"\"},\n",
    "        {\"role\": \"user\", \"content\": content},\n",
    "    ]\n",
    ")"
   ]
  },
  {
   "cell_type": "code",
   "execution_count": 17,
   "metadata": {},
   "outputs": [
    {
     "data": {
      "text/plain": [
       "<OpenAIObject chat.completion id=chatcmpl-7YGtpjeTTuhYwot4nldKNW3Cgkasv at 0x1d5cf1946b0> JSON: {\n",
       "  \"id\": \"chatcmpl-7YGtpjeTTuhYwot4nldKNW3Cgkasv\",\n",
       "  \"object\": \"chat.completion\",\n",
       "  \"created\": 1688402469,\n",
       "  \"model\": \"gpt-3.5-turbo-0613\",\n",
       "  \"choices\": [\n",
       "    {\n",
       "      \"index\": 0,\n",
       "      \"message\": {\n",
       "        \"role\": \"assistant\",\n",
       "        \"content\": \"recap: \\\"Il gruppo parte per una missione di caccia di demoni ad Asarius. Nikolaya interroga dei cultisti catturati e scopre informazioni sul rituale di incarnazione di un avatar di Lloth. Il gruppo si dirige verso la giungla e il lago menzionati nella mappa trovata nel mulino, ma si perde a causa della nebbia. Incontrano una torre di guardia infestata da ragni e vengono attaccati da un ragno potente e intelligente.\\\"\\ntitle: \\\"Missione di caccia, interrogatori e scontri con ragni\\\"\"\n",
       "      },\n",
       "      \"finish_reason\": \"stop\"\n",
       "    }\n",
       "  ],\n",
       "  \"usage\": {\n",
       "    \"prompt_tokens\": 736,\n",
       "    \"completion_tokens\": 144,\n",
       "    \"total_tokens\": 880\n",
       "  }\n",
       "}"
      ]
     },
     "execution_count": 17,
     "metadata": {},
     "output_type": "execute_result"
    }
   ],
   "source": [
    "output"
   ]
  },
  {
   "cell_type": "code",
   "execution_count": 22,
   "metadata": {},
   "outputs": [],
   "source": [
    "output_text = output.get(\"choices\")[0][\"message\"][\"content\"]"
   ]
  },
  {
   "cell_type": "code",
   "execution_count": 26,
   "metadata": {},
   "outputs": [
    {
     "name": "stdout",
     "output_type": "stream",
     "text": [
      "recap: \"Il gruppo parte per una missione di caccia di demoni ad\n",
      "Asarius. Nikolaya interroga dei cultisti catturati e scopre\n",
      "informazioni sul rituale di incarnazione di un avatar di Lloth. Il\n",
      "gruppo si dirige verso la giungla e il lago menzionati nella mappa\n",
      "trovata nel mulino, ma si perde a causa della nebbia. Incontrano una\n",
      "torre di guardia infestata da ragni e vengono attaccati da un ragno\n",
      "potente e intelligente.\"\n",
      "title: \"Missione di caccia, interrogatori e\n",
      "scontri con ragni\"\n"
     ]
    }
   ],
   "source": [
    "from textwrap import fill\n",
    "\n",
    "print(fill(output_text, replace_whitespace=False))"
   ]
  }
 ],
 "metadata": {
  "kernelspec": {
   "display_name": "Python 3",
   "language": "python",
   "name": "python3"
  },
  "language_info": {
   "codemirror_mode": {
    "name": "ipython",
    "version": 3
   },
   "file_extension": ".py",
   "mimetype": "text/x-python",
   "name": "python",
   "nbconvert_exporter": "python",
   "pygments_lexer": "ipython3",
   "version": "3.11.2"
  },
  "orig_nbformat": 4
 },
 "nbformat": 4,
 "nbformat_minor": 2
}
